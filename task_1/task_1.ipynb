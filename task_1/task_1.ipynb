{
 "cells": [
  {
   "cell_type": "markdown",
   "id": "e3451ecb",
   "metadata": {},
   "source": [
    "# 1. Постановка задачи\n",
    "\n",
    "На строительство магистрали периодически доставляются материалы, которые со станции железной  \n",
    "дороги вначале поступают на $3$ промежуточных склада, а затем непосредственно к $5$ объектам магистрали.  \n",
    "Два первых склада $А1$, $А2$ имеют ограниченную емкость $50[т]$, и поступившие на них грузы расходуются  \n",
    "полностью. Cклад $А3$ с неограниченной емкостью допускает резервирование грузов от периода к периоду.  \n",
    "Транспортные расходы (в условных денежных единицах — $[ДЕ]$) на перевозку одной тонны груза со станции  \n",
    "на промежуточные склады составляют $7$, $4$, $4[ДЕ]$, а со складов к объектам $В1–В5$ представлены  \n",
    "в табл. $1$; там же приведены потребности объектов (в тоннах) в течение двух периодов.\n",
    "\n",
    "<table style=\"display: inline-block\">\n",
    "    <caption>Таблица $1$: Транспортные расходы</caption>\n",
    "    <tr>\n",
    "        <th></th>\n",
    "        <th>$B1$</th>\n",
    "        <th>$B2$</th>\n",
    "        <th>$B3$</th>\n",
    "        <th>$B4$</th>\n",
    "        <th>$B5$</th>\n",
    "    </tr>\n",
    "    <tr>\n",
    "        <td>$A1$</td>\n",
    "        <td>$7$</td>\n",
    "        <td>$2$</td>\n",
    "        <td>$13$</td>\n",
    "        <td>$11$</td>\n",
    "        <td>$11$</td>\n",
    "    </tr>\n",
    "    <tr>\n",
    "        <td>$A2$</td>\n",
    "        <td>$11$</td>\n",
    "        <td>$2$</td>\n",
    "        <td>$1$</td>\n",
    "        <td>$9$</td>\n",
    "        <td>$6$</td>\n",
    "    </tr>\n",
    "    <tr>\n",
    "        <td>$A3$</td>\n",
    "        <td>$8$</td>\n",
    "        <td>$11$</td>\n",
    "        <td>$1$</td>\n",
    "        <td>$13$</td>\n",
    "        <td>$13$</td>\n",
    "    </tr>\n",
    "    <tr>\n",
    "        <td>$1й\\ период$</td>\n",
    "        <td>$37$</td>\n",
    "        <td>$26$</td>\n",
    "        <td>$31$</td>\n",
    "        <td>$34$</td>\n",
    "        <td>$16$</td>\n",
    "    </tr>\n",
    "    <tr>\n",
    "        <td>$2й\\ период$</td>\n",
    "        <td>$57$</td>\n",
    "        <td>$13$</td>\n",
    "        <td>$2$</td>\n",
    "        <td>$19$</td>\n",
    "        <td>$47$</td>\n",
    "    </tr>\n",
    "</table>\n",
    "\n",
    "Рассматривается работа системы в течение двух периодов при условии доставки на станцию по $150[т]$  \n",
    "груза в каждый из периодов. Требуется определить план перевозок, обеспечивающий минимум стоимости  \n",
    "доставки грузов для двух периодов. Провести анализ чувствительности плана к изменению цен перевозок  \n",
    "из первого промежуточного склада."
   ]
  },
  {
   "cell_type": "markdown",
   "id": "a9599c30",
   "metadata": {},
   "source": [
    "# 2. Формализация задачи\n",
    "\n",
    "* Вектор $\\overline{c}_{18 \\times 1}$ обозначает стоимость перевозок (в $[ДЕ]$),  \n",
    "где первые $3$ компоненты - стоимость перевозки в промежуточные склады,  \n",
    "последующие - стоимости перевозок по строкам таблицы, слева направо;\n",
    "* Вектор $\\overline{x}_{18 \\times 1}$ обозначает количество (в $[т]$) товара, которое необходимо распределить.  \n",
    "Компоненты соответствуют компонентам из вектора $\\overline{c}_{18 \\times 1}$ по смыслу \"откуда-куда\";  \n",
    "* Матрица $G_{21 \\times 18}$ обозначает коэффициенты при компонентах $\\overline{x}$ в левой части ограничений на неравенства ($\\leq$);\n",
    "* Вектор $\\overline{h}_{21 \\times 1}$ обозначает коэффициенты в правой части ограничений на неравенства ($\\leq$);\n",
    "* Матрица $A_{8 \\times 18}$ обозначает коэффициенты при компонентах $\\overline{x}$ в левой части ограничений на равенства ($=$);\n",
    "* Вектор $\\overline{b}_{8 \\times 1}$ обозначает коэффициенты в правой части ограничений на равенства ($=$).\n",
    "\n",
    "Перейдём к системам для периодов:\n",
    "\n"
   ]
  },
  {
   "cell_type": "markdown",
   "id": "fd6dd213",
   "metadata": {},
   "source": [
    "$period_1\\begin{cases}f(\\overline{x}^{(1)})=7x_1^{(1)} + 4x_2^{(1)} + 4x_3^{(1)} \\\\\n",
    "+7x_4^{(1)} + 2x_5^{(1)} + 13x_6^{(1)} + 11x_7^{(1)} + + 11x_8^{(1)} \\\\\n",
    "+11x_9^{(1)} + 2x_{10}^{(1)} + 1x_{11}^{(1)} + 9x_{12}^{(1)} + 6x_{13}^{(1)} \\\\\n",
    "+8x_{14}^{(1)} + 11x_{15}^{(1)}+ 1x_{16}^{(1)} + 13x_{17}^{(1)} + 13x_{18}^{(1)} \\rightarrow \\min \\\\\n",
    "x_1^{(1)} + x_2^{(1)} + x_3^{(1)} = 150 \\\\\n",
    "7x_4^{(1)}  + 11x_9^{(1)}   + 8x_{14}^{(1)}  = 37 \\\\\n",
    "2x_5^{(1)}  + 2x_{10}^{(1)} + 11x_{15}^{(1)} = 26 \\\\\n",
    "13x_6^{(1)} + 1x_{11}^{(1)} + 1x_{16}^{(1)}  = 31 \\\\\n",
    "11x_7^{(1)} + 9x_{12}^{(1)} + 13x_{17}^{(1)} = 34 \\\\\n",
    "11x_8^{(1)} + 6x_{13}^{(1)} + 13x_{18}^{(1)} = 16 \\\\\n",
    "x_1^{(1)} = \\sum\\limits_{i=4}^8x_i^{(1)}    \\\\\n",
    "x_2^{(1)} = \\sum\\limits_{i=9}^{13}x_i^{(1)} \\\\\n",
    "\\sum\\limits_{i=4}^{18}x_i^{(2)} \\leq 150 + r^{(1)} \\\\\n",
    "x_1^{(1)},x_2^{(1)} \\leq 50 \\\\\n",
    "x_i^{(1)} \\geq 0, i=\\overline{0,18} \\\\\n",
    "\\end{cases}period_2\\begin{cases}\n",
    "f(\\overline{x}^{(2)})=7x_1^{(2)} + 4x_2^{(2)} + 4x_3^{(2)} \\\\\n",
    "+7x_4^{(2)}    + 2x_5^{(2)}     + 13x_6^{(2)}   + 11x_7^{(2)}    + 11x_8^{(2)} \\\\\n",
    "+11x_9^{(2)}   + 2x_{10}^{(2)}  + 1x_{11}^{(2)} + 9x_{12}^{(2)}  + 6x_{13}^{(2)} \\\\\n",
    "+8x_{14}^{(2)} + 11x_{15}^{(2)} + 1x_{16}^{(2)} + 13x_{17}^{(2)} + 13x_{18}^{(2)} \\rightarrow \\min \\\\\n",
    "x_1^{(2)} + x_2^{(2)} + x_3^{(2)} = 150 \\\\\n",
    "7x_4^{(2)}  + 11x_9^{(2)}   + 8x_{14}^{(2)}  = 57 \\\\\n",
    "2x_5^{(2)}  + 2x_{10}^{(2)} + 11x_{15}^{(2)} = 13 \\\\\n",
    "13x_6^{(2)} + 1x_{11}^{(2)} + 1x_{16}^{(2)}  = 2 \\\\\n",
    "11x_7^{(2)} + 9x_{12}^{(2)} + 13x_{17}^{(2)} = 19 \\\\\n",
    "11x_8^{(2)} + 6x_{13}^{(2)} + 13x_{18}^{(2)} = 47 \\\\\n",
    "x_1^{(2)} = \\sum\\limits_{i=4}^8x_i^{(2)} \\\\\n",
    "x_2^{(2)} = \\sum\\limits_{i=9}^{13}x_i^{(2)} \\\\\n",
    "\\sum\\limits_{i=4}^{18}x_i^{(2)} \\leq 150 + r^{(2)} \\\\\n",
    "x_1^{(2)},x_2^{(2)} \\leq 50 \\\\\n",
    "x_i^{(2)} \\geq 0, i=\\overline{0,18} \\\\\n",
    "\\end{cases}$\n",
    "\n",
    "$\\begin{cases}\n",
    "\\overline{c}^T\\overline{x}^{(j)}\\rightarrow\\min \\\\\n",
    "G\\overline{x}^{(j)}\\leq h^{(j)} \\\\\n",
    "A\\overline{x}^{(j)} = b^{(j)} \\\\\n",
    "\\end{cases},j=\\overline{1,2}$"
   ]
  },
  {
   "cell_type": "markdown",
   "id": "0da0c31f",
   "metadata": {},
   "source": []
  },
  {
   "cell_type": "markdown",
   "id": "6fe4eb50",
   "metadata": {},
   "source": [
    "# 3. Описание задачи\n",
    "\n",
    "Для решения задачи была выбрана библиотека `CVXOPT`.\n",
    "\n",
    "В данной библиотеке присутствует функция `lp` для решения задач ЛП.  \n",
    "Ей передаём:\n",
    "* транспортные расходы ($\\overline{c}_{18 \\times 1}$); \n",
    "* ограничения на неравенства ($G_{21 \\times 18}$ и $\\overline{h}_{21 \\times 1}$);\n",
    "* а также ограничения на равенства ($A_{8 \\times 18}$ и $\\overline{b}_{8 \\times 1}$).\n",
    "\n",
    "Вызываем эту функцию с параметром `solver = 'glpk'`, т.е. будем использовать симплекс-метод.  \n",
    "Сохраняем значение остатка на промежуточном складе $A3$, а также общую стоимость перевозок.  \n",
    "На будущее сохраним поле `['z']` для анализа чувствительности.\n",
    "\n",
    "Далее распишем матрицы, отображающие начальные условия для `CVXOPT`.\n",
    "\n",
    "$\n",
    "\\overline{c}_{18 \\times 1} =\n",
    "\\begin{pmatrix}\n",
    "7\\\\\n",
    "4\\\\\n",
    "4\\\\\n",
    "7\\\\\n",
    "2\\\\\n",
    "13\\\\\n",
    "11\\\\\n",
    "11\\\\\n",
    "11\\\\\n",
    "2\\\\\n",
    "1\\\\\n",
    "9\\\\\n",
    "6\\\\\n",
    "8\\\\\n",
    "11\\\\\n",
    "1\\\\\n",
    "13\\\\\n",
    "13\n",
    "\\end{pmatrix}\\quad\n",
    "\\overline{x}_{18 \\times 1} =\n",
    "\\begin{pmatrix}\n",
    "x_1\\\\\n",
    "x_2\\\\\n",
    "x_3\\\\\n",
    "x_4\\\\\n",
    "x_5\\\\\n",
    "x_6\\\\\n",
    "x_7\\\\\n",
    "x_8\\\\\n",
    "x_9\\\\\n",
    "x_{10}\\\\\n",
    "x_{11}\\\\\n",
    "x_{12}\\\\\n",
    "x_{13}\\\\\n",
    "x_{14}\\\\\n",
    "x_{15}\\\\\n",
    "x_{16}\\\\\n",
    "x_{17}\\\\\n",
    "x_{18}\n",
    "\\end{pmatrix}\\quad\n",
    "\\overline{h}^0_{21 \\times 1} =\n",
    "\\begin{pmatrix}\n",
    "0\\\\\n",
    "0\\\\\n",
    "0\\\\\n",
    "0\\\\\n",
    "0\\\\\n",
    "0\\\\\n",
    "0\\\\\n",
    "0\\\\\n",
    "0\\\\\n",
    "0\\\\\n",
    "0\\\\\n",
    "0\\\\\n",
    "0\\\\\n",
    "0\\\\\n",
    "0\\\\\n",
    "0\\\\\n",
    "0\\\\\n",
    "0\\\\\n",
    "50\\\\\n",
    "50\\\\\n",
    "150\\\\\n",
    "\\end{pmatrix}\\quad\n",
    "\\overline{b}^{(1)}_{8 \\times 1} =\n",
    "\\begin{pmatrix}\n",
    "150\\\\\n",
    "37\\\\\n",
    "26\\\\\n",
    "31\\\\\n",
    "34\\\\\n",
    "16\\\\\n",
    "0\\\\\n",
    "0\n",
    "\\end{pmatrix}\\quad\n",
    "\\overline{b}^{(2)}_{8 \\times 1} =\n",
    "\\begin{pmatrix}\n",
    "150\\\\\n",
    "57\\\\\n",
    "13\\\\\n",
    "2\\\\\n",
    "19\\\\\n",
    "47\\\\\n",
    "0\\\\\n",
    "0\n",
    "\\end{pmatrix}\n",
    "\\\\\n",
    "G_{21 \\times 18} =\n",
    "\\begin{pmatrix}\n",
    "-1 & 0 & 0 & 0 & 0 & 0 & 0 & 0 & 0 & 0 & 0 & 0 & 0 & 0 & 0 & 0 & 0 & 0 \\\\\n",
    "0 & -1 & 0 & 0 & 0 & 0 & 0 & 0 & 0 & 0 & 0 & 0 & 0 & 0 & 0 & 0 & 0 & 0 \\\\\n",
    "0 & 0 & -1 & 0 & 0 & 0 & 0 & 0 & 0 & 0 & 0 & 0 & 0 & 0 & 0 & 0 & 0 & 0 \\\\\n",
    "0 & 0 & 0 & -1 & 0 & 0 & 0 & 0 & 0 & 0 & 0 & 0 & 0 & 0 & 0 & 0 & 0 & 0 \\\\\n",
    "0 & 0 & 0 & 0 & -1 & 0 & 0 & 0 & 0 & 0 & 0 & 0 & 0 & 0 & 0 & 0 & 0 & 0 \\\\\n",
    "0 & 0 & 0 & 0 & 0 & -1 & 0 & 0 & 0 & 0 & 0 & 0 & 0 & 0 & 0 & 0 & 0 & 0 \\\\\n",
    "0 & 0 & 0 & 0 & 0 & 0 & -1 & 0 & 0 & 0 & 0 & 0 & 0 & 0 & 0 & 0 & 0 & 0 \\\\\n",
    "0 & 0 & 0 & 0 & 0 & 0 & 0 & -1 & 0 & 0 & 0 & 0 & 0 & 0 & 0 & 0 & 0 & 0 \\\\\n",
    "0 & 0 & 0 & 0 & 0 & 0 & 0 & 0 & -1 & 0 & 0 & 0 & 0 & 0 & 0 & 0 & 0 & 0 \\\\\n",
    "0 & 0 & 0 & 0 & 0 & 0 & 0 & 0 & 0 & -1 & 0 & 0 & 0 & 0 & 0 & 0 & 0 & 0 \\\\\n",
    "0 & 0 & 0 & 0 & 0 & 0 & 0 & 0 & 0 & 0 & -1 & 0 & 0 & 0 & 0 & 0 & 0 & 0 \\\\\n",
    "0 & 0 & 0 & 0 & 0 & 0 & 0 & 0 & 0 & 0 & 0 & -1 & 0 & 0 & 0 & 0 & 0 & 0 \\\\\n",
    "0 & 0 & 0 & 0 & 0 & 0 & 0 & 0 & 0 & 0 & 0 & 0 & -1 & 0 & 0 & 0 & 0 & 0 \\\\\n",
    "0 & 0 & 0 & 0 & 0 & 0 & 0 & 0 & 0 & 0 & 0 & 0 & 0 & -1 & 0 & 0 & 0 & 0 \\\\\n",
    "0 & 0 & 0 & 0 & 0 & 0 & 0 & 0 & 0 & 0 & 0 & 0 & 0 & 0 & -1 & 0 & 0 & 0 \\\\\n",
    "0 & 0 & 0 & 0 & 0 & 0 & 0 & 0 & 0 & 0 & 0 & 0 & 0 & 0 & 0 & -1 & 0 & 0 \\\\\n",
    "0 & 0 & 0 & 0 & 0 & 0 & 0 & 0 & 0 & 0 & 0 & 0 & 0 & 0 & 0 & 0 & -1 & 0 \\\\\n",
    "0 & 0 & 0 & 0 & 0 & 0 & 0 & 0 & 0 & 0 & 0 & 0 & 0 & 0 & 0 & 0 & 0 & -1 \\\\\n",
    "1 & 0 & 0 & 0 & 0 & 0 & 0 & 0 & 0 & 0 & 0 & 0 & 0 & 0 & 0 & 0 & 0 & 0 \\\\\n",
    "0 & 1 & 0 & 0 & 0 & 0 & 0 & 0 & 0 & 0 & 0 & 0 & 0 & 0 & 0 & 0 & 0 & 0 \\\\\n",
    "0 & 0 & 0 & 1 & 1 & 1 & 1 & 1 & 1 & 1 & 1 & 1 & 1 & 1 & 1 & 1 & 1 & 1 \\\\\n",
    "\\end{pmatrix}\n",
    "\\\\\n",
    "A_{8 \\times 18} =\n",
    "\\begin{pmatrix}\n",
    "1 & 1 & 1 & 0 & 0 & 0 & 0 & 0 & 0 & 0 & 0 & 0 & 0 & 0 & 0 & 0 & 0 & 0 \\\\\n",
    "0 & 0 & 0 & 1 & 0 & 0 & 0 & 0 & 1 & 0 & 0 & 0 & 0 & 1 & 0 & 0 & 0 & 0 \\\\\n",
    "0 & 0 & 0 & 0 & 1 & 0 & 0 & 0 & 0 & 1 & 0 & 0 & 0 & 0 & 1 & 0 & 0 & 0 \\\\\n",
    "0 & 0 & 0 & 0 & 0 & 1 & 0 & 0 & 0 & 0 & 1 & 0 & 0 & 0 & 0 & 1 & 0 & 0 \\\\\n",
    "0 & 0 & 0 & 0 & 0 & 0 & 1 & 0 & 0 & 0 & 0 & 1 & 0 & 0 & 0 & 0 & 1 & 0 \\\\\n",
    "0 & 0 & 0 & 0 & 0 & 0 & 0 & 1 & 0 & 0 & 0 & 0 & 1 & 0 & 0 & 0 & 0 & 1 \\\\\n",
    "-1 & 0 & 0 & 1 & 1 & 1 & 1 & 1 & 0 & 0 & 0 & 0 & 0 & 0 & 0 & 0 & 0 & 0 \\\\\n",
    "0 & -1 & 0 & 0 & 0 & 0 & 0 & 0 & 1 & 1 & 1 & 1 & 1 & 0 & 0 & 0 & 0 & 0 \\\\\n",
    "\\end{pmatrix}                                                                 \\\\\\\\\n",
    "\\begin{cases}\n",
    "    f(\\overline{x}^{(j)}) = (\\overline{c}^T, \\overline{x}^{(j)})\n",
    "    \\rightarrow \\min                                                           \\\\\\\\\n",
    "    G\\overline{x}^{(j)} \\leq \\overline{h}^{(j)}                                           \\\\\\\\\n",
    "    A\\overline{x}^{(j)} = \\overline{b}^{(j)}                                              \\\\\\\\\n",
    "    \\overline{h}^{(j)} = \\overline{h}^0, \\overline{h}^{(j)}_{21} = 150 + r^{(j)}\n",
    "\\end{cases}\n",
    "\\qquad j = [1,2],\n",
    "\\ r^{(1)} = 0,\\ r^{(2)} = \\overline{h}^{(1)}_{21} - \\sum \\limits_{n=4}^{18} \\overline{x}^{(1)}_n\n",
    "$"
   ]
  },
  {
   "cell_type": "markdown",
   "id": "bbe8544b",
   "metadata": {},
   "source": [
    "# 4. Решение задачи"
   ]
  },
  {
   "cell_type": "code",
   "execution_count": 1,
   "id": "b3a51f06",
   "metadata": {
    "scrolled": false
   },
   "outputs": [
    {
     "data": {
      "text/html": [
       "<table>\n",
       "<thead>\n",
       "<tr><th>P1   </th><th style=\"text-align: right;\">  O </th><th style=\"text-align: right;\">  T </th><th style=\"text-align: right;\">  B1 </th><th style=\"text-align: right;\">  B2 </th><th style=\"text-align: right;\">  B3 </th><th style=\"text-align: right;\">  B4 </th><th style=\"text-align: right;\">  B5 </th><th style=\"text-align: right;\">  R </th></tr>\n",
       "</thead>\n",
       "<tbody>\n",
       "<tr><td>A1   </td><td style=\"text-align: right;\">  26</td><td style=\"text-align: right;\">  26</td><td style=\"text-align: right;\">    0</td><td style=\"text-align: right;\">   26</td><td style=\"text-align: right;\">    0</td><td style=\"text-align: right;\">    0</td><td style=\"text-align: right;\">    0</td><td style=\"text-align: right;\">   0</td></tr>\n",
       "<tr><td>A2   </td><td style=\"text-align: right;\">  50</td><td style=\"text-align: right;\">  50</td><td style=\"text-align: right;\">    0</td><td style=\"text-align: right;\">    0</td><td style=\"text-align: right;\">    0</td><td style=\"text-align: right;\">   34</td><td style=\"text-align: right;\">   16</td><td style=\"text-align: right;\">   0</td></tr>\n",
       "<tr><td>A3   </td><td style=\"text-align: right;\">  74</td><td style=\"text-align: right;\">  74</td><td style=\"text-align: right;\">   37</td><td style=\"text-align: right;\">    0</td><td style=\"text-align: right;\">   31</td><td style=\"text-align: right;\">    0</td><td style=\"text-align: right;\">    0</td><td style=\"text-align: right;\">   6</td></tr>\n",
       "<tr><td>Σ    </td><td style=\"text-align: right;\"> 150</td><td style=\"text-align: right;\"> 150</td><td style=\"text-align: right;\">   37</td><td style=\"text-align: right;\">   26</td><td style=\"text-align: right;\">   31</td><td style=\"text-align: right;\">   34</td><td style=\"text-align: right;\">   16</td><td style=\"text-align: right;\">   6</td></tr>\n",
       "</tbody>\n",
       "</table>"
      ],
      "text/plain": [
       "'<table>\\n<thead>\\n<tr><th>P1   </th><th style=\"text-align: right;\">  O </th><th style=\"text-align: right;\">  T </th><th style=\"text-align: right;\">  B1 </th><th style=\"text-align: right;\">  B2 </th><th style=\"text-align: right;\">  B3 </th><th style=\"text-align: right;\">  B4 </th><th style=\"text-align: right;\">  B5 </th><th style=\"text-align: right;\">  R </th></tr>\\n</thead>\\n<tbody>\\n<tr><td>A1   </td><td style=\"text-align: right;\">  26</td><td style=\"text-align: right;\">  26</td><td style=\"text-align: right;\">    0</td><td style=\"text-align: right;\">   26</td><td style=\"text-align: right;\">    0</td><td style=\"text-align: right;\">    0</td><td style=\"text-align: right;\">    0</td><td style=\"text-align: right;\">   0</td></tr>\\n<tr><td>A2   </td><td style=\"text-align: right;\">  50</td><td style=\"text-align: right;\">  50</td><td style=\"text-align: right;\">    0</td><td style=\"text-align: right;\">    0</td><td style=\"text-align: right;\">    0</td><td style=\"text-align: right;\">   34</td><td style=\"text-align: right;\">   16</td><td style=\"text-align: right;\">   0</td></tr>\\n<tr><td>A3   </td><td style=\"text-align: right;\">  74</td><td style=\"text-align: right;\">  74</td><td style=\"text-align: right;\">   37</td><td style=\"text-align: right;\">    0</td><td style=\"text-align: right;\">   31</td><td style=\"text-align: right;\">    0</td><td style=\"text-align: right;\">    0</td><td style=\"text-align: right;\">   6</td></tr>\\n<tr><td>Σ    </td><td style=\"text-align: right;\"> 150</td><td style=\"text-align: right;\"> 150</td><td style=\"text-align: right;\">   37</td><td style=\"text-align: right;\">   26</td><td style=\"text-align: right;\">   31</td><td style=\"text-align: right;\">   34</td><td style=\"text-align: right;\">   16</td><td style=\"text-align: right;\">   6</td></tr>\\n</tbody>\\n</table>'"
      ]
     },
     "metadata": {},
     "output_type": "display_data"
    },
    {
     "name": "stdout",
     "output_type": "stream",
     "text": [
      "Objective:\t\t1459.0\n",
      " \n"
     ]
    },
    {
     "data": {
      "text/html": [
       "<table>\n",
       "<thead>\n",
       "<tr><th>P2   </th><th style=\"text-align: right;\">  O </th><th style=\"text-align: right;\">  T </th><th style=\"text-align: right;\">  B1 </th><th style=\"text-align: right;\">  B2 </th><th style=\"text-align: right;\">  B3 </th><th style=\"text-align: right;\">  B4 </th><th style=\"text-align: right;\">  B5 </th><th style=\"text-align: right;\">  R </th></tr>\n",
       "</thead>\n",
       "<tbody>\n",
       "<tr><td>A1   </td><td style=\"text-align: right;\">  13</td><td style=\"text-align: right;\">  13</td><td style=\"text-align: right;\">    0</td><td style=\"text-align: right;\">   13</td><td style=\"text-align: right;\">    0</td><td style=\"text-align: right;\">    0</td><td style=\"text-align: right;\">    0</td><td style=\"text-align: right;\">   0</td></tr>\n",
       "<tr><td>A2   </td><td style=\"text-align: right;\">  50</td><td style=\"text-align: right;\">  50</td><td style=\"text-align: right;\">    0</td><td style=\"text-align: right;\">    0</td><td style=\"text-align: right;\">    0</td><td style=\"text-align: right;\">    3</td><td style=\"text-align: right;\">   47</td><td style=\"text-align: right;\">   0</td></tr>\n",
       "<tr><td>A3   </td><td style=\"text-align: right;\">  87</td><td style=\"text-align: right;\">  93</td><td style=\"text-align: right;\">   57</td><td style=\"text-align: right;\">    0</td><td style=\"text-align: right;\">    2</td><td style=\"text-align: right;\">   16</td><td style=\"text-align: right;\">    0</td><td style=\"text-align: right;\">  18</td></tr>\n",
       "<tr><td>Σ    </td><td style=\"text-align: right;\"> 150</td><td style=\"text-align: right;\"> 156</td><td style=\"text-align: right;\">   57</td><td style=\"text-align: right;\">   13</td><td style=\"text-align: right;\">    2</td><td style=\"text-align: right;\">   19</td><td style=\"text-align: right;\">   47</td><td style=\"text-align: right;\">  18</td></tr>\n",
       "</tbody>\n",
       "</table>"
      ],
      "text/plain": [
       "'<table>\\n<thead>\\n<tr><th>P2   </th><th style=\"text-align: right;\">  O </th><th style=\"text-align: right;\">  T </th><th style=\"text-align: right;\">  B1 </th><th style=\"text-align: right;\">  B2 </th><th style=\"text-align: right;\">  B3 </th><th style=\"text-align: right;\">  B4 </th><th style=\"text-align: right;\">  B5 </th><th style=\"text-align: right;\">  R </th></tr>\\n</thead>\\n<tbody>\\n<tr><td>A1   </td><td style=\"text-align: right;\">  13</td><td style=\"text-align: right;\">  13</td><td style=\"text-align: right;\">    0</td><td style=\"text-align: right;\">   13</td><td style=\"text-align: right;\">    0</td><td style=\"text-align: right;\">    0</td><td style=\"text-align: right;\">    0</td><td style=\"text-align: right;\">   0</td></tr>\\n<tr><td>A2   </td><td style=\"text-align: right;\">  50</td><td style=\"text-align: right;\">  50</td><td style=\"text-align: right;\">    0</td><td style=\"text-align: right;\">    0</td><td style=\"text-align: right;\">    0</td><td style=\"text-align: right;\">    3</td><td style=\"text-align: right;\">   47</td><td style=\"text-align: right;\">   0</td></tr>\\n<tr><td>A3   </td><td style=\"text-align: right;\">  87</td><td style=\"text-align: right;\">  93</td><td style=\"text-align: right;\">   57</td><td style=\"text-align: right;\">    0</td><td style=\"text-align: right;\">    2</td><td style=\"text-align: right;\">   16</td><td style=\"text-align: right;\">    0</td><td style=\"text-align: right;\">  18</td></tr>\\n<tr><td>Σ    </td><td style=\"text-align: right;\"> 150</td><td style=\"text-align: right;\"> 156</td><td style=\"text-align: right;\">   57</td><td style=\"text-align: right;\">   13</td><td style=\"text-align: right;\">    2</td><td style=\"text-align: right;\">   19</td><td style=\"text-align: right;\">   47</td><td style=\"text-align: right;\">  18</td></tr>\\n</tbody>\\n</table>'"
      ]
     },
     "metadata": {},
     "output_type": "display_data"
    },
    {
     "name": "stdout",
     "output_type": "stream",
     "text": [
      "Objective:\t\t1640.0\n",
      " \n",
      "Overall price:\t\t3099.0 \n"
     ]
    }
   ],
   "source": [
    "import numpy as np\n",
    "from cvxopt   import matrix, solvers\n",
    "from tabulate import tabulate\n",
    "\n",
    "def solve(c, G, h, A, b, r, p, d, i):\n",
    "    so     = solvers.lp(c, G, h, A, b, solver = 'glpk')\n",
    "    d[i]   = (so['z'][3:8])\n",
    "    st     = so['status']\n",
    "    if st == 'optimal':\n",
    "        A     = so['x'][0:3]\n",
    "        B     = [x for j in range(0,5) for x in so['x'][3 + j:15 + j:5]]\n",
    "        B1    = B[0:3]\n",
    "        B2    = B[3:6]\n",
    "        B3    = B[6:9]\n",
    "        B4    = B[9:12]\n",
    "        B5    = B[12:15]\n",
    "        B1S   = sum(B1)\n",
    "        B2S   = sum(B2)\n",
    "        B3S   = sum(B3)\n",
    "        B4S   = sum(B4)\n",
    "        B5S   = sum(B5)\n",
    "        A3    = so['x'][13:18]\n",
    "        O     = np.append(np.hstack(A), sum(A))\n",
    "        A[2]  += r[i]\n",
    "        T     = np.append(np.hstack(A), sum(A))\n",
    "        R     = np.array([sum(so['x'][3:8]), sum(so['x'][8:13]), sum(A3)])\n",
    "        t     = tabulate(\n",
    "            np.array([\n",
    "                np.array([ 'A1 ',  'A2 ',  'A3 ',  'Σ ']),\n",
    "                O,\n",
    "                T,\n",
    "                np.append(B1, B1S),\n",
    "                np.append(B2, B2S),\n",
    "                np.append(B3, B3S),\n",
    "                np.append(B4, B4S),\n",
    "                np.append(B5, B5S),\n",
    "                T - np.append(R, sum(R))\n",
    "            ]).T,\n",
    "            [f'P{i + 1} ',  'O ',  'T ',  'B1 ',  'B2 ',  'B3 ',  'B4 ',  'B5 ',  'R '],\n",
    "            tablefmt = 'html'\n",
    "        )\n",
    "        display(t)\n",
    "        p[i]   = (so['primal objective'])\n",
    "        print(f'Objective:\\t\\t{p[i]}\\n ')\n",
    "        h[20] = b[0] + T[3] - (B1S + B2S + B3S + B4S + B5S)\n",
    "        r[i + 1] = (h[20] - b[0])\n",
    "    else:\n",
    "        print(f'Cant\\'t find optimal solution: {st}\\n')\n",
    "\n",
    "c = matrix([\n",
    "    7., 4,  4,\n",
    "    7,  2,  13, 11, 11,\n",
    "    11, 2,  1,  9,  6,\n",
    "    8,  11, 1,  13, 13\n",
    "])\n",
    "G = matrix([\n",
    "    [-1.,0,0,0,0,0,0,0,0,0,0,0,0,0,0,0,0,0],\n",
    "    [0,-1,0,0,0,0,0,0,0,0,0,0,0,0,0,0,0,0],\n",
    "    [0,0,-1,0,0,0,0,0,0,0,0,0,0,0,0,0,0,0],\n",
    "    [0,0,0,-1,0,0,0,0,0,0,0,0,0,0,0,0,0,0],\n",
    "    [0,0,0,0,-1,0,0,0,0,0,0,0,0,0,0,0,0,0],\n",
    "    [0,0,0,0,0,-1,0,0,0,0,0,0,0,0,0,0,0,0],\n",
    "    [0,0,0,0,0,0,-1,0,0,0,0,0,0,0,0,0,0,0],\n",
    "    [0,0,0,0,0,0,0,-1,0,0,0,0,0,0,0,0,0,0],\n",
    "    [0,0,0,0,0,0,0,0,-1,0,0,0,0,0,0,0,0,0],\n",
    "    [0,0,0,0,0,0,0,0,0,-1,0,0,0,0,0,0,0,0],\n",
    "    [0,0,0,0,0,0,0,0,0,0,-1,0,0,0,0,0,0,0],\n",
    "    [0,0,0,0,0,0,0,0,0,0,0,-1,0,0,0,0,0,0],\n",
    "    [0,0,0,0,0,0,0,0,0,0,0,0,-1,0,0,0,0,0],\n",
    "    [0,0,0,0,0,0,0,0,0,0,0,0,0,-1,0,0,0,0],\n",
    "    [0,0,0,0,0,0,0,0,0,0,0,0,0,0,-1,0,0,0],\n",
    "    [0,0,0,0,0,0,0,0,0,0,0,0,0,0,0,-1,0,0],\n",
    "    [0,0,0,0,0,0,0,0,0,0,0,0,0,0,0,0,-1,0],\n",
    "    [0,0,0,0,0,0,0,0,0,0,0,0,0,0,0,0,0,-1],\n",
    "    \n",
    "    [1,0,0,0,0,0,0,0,0,0,0,0,0,0,0,0,0,0],\n",
    "    [0,1,0,0,0,0,0,0,0,0,0,0,0,0,0,0,0,0],\n",
    "    [0,0,0,1,1,1,1,1,1,1,1,1,1,1,1,1,1,1],\n",
    "]).T\n",
    "o = np.array([150.])\n",
    "h = matrix([\n",
    "    0.,  # -x_1  <= 0\n",
    "    0,   # -x_2  <= 0\n",
    "    0,   # -x_3  <= 0\n",
    "    0,   # -x_4  <= 0\n",
    "    0,   # -x_5  <= 0\n",
    "    0,   # -x_6  <= 0\n",
    "    0,   # -x_7  <= 0\n",
    "    0,   # -x_8  <= 0\n",
    "    0,   # -x_9  <= 0\n",
    "    0,   # -x_10 <= 0\n",
    "    0,   # -x_11 <= 0\n",
    "    0,   # -x_12 <= 0\n",
    "    0,   # -x_13 <= 0\n",
    "    0,   # -x_14 <= 0\n",
    "    0,   # -x_15 <= 0\n",
    "    0,   # -x_16 <= 0\n",
    "    0,   # -x_17 <= 0\n",
    "    0,   # -x_18 <= 0\n",
    "    \n",
    "    50,   # x_1   <= 50\n",
    "    50,   # x_2   <= 50\n",
    "    o[0], # sum(_4,...,_18) <= 150 + r\n",
    "])\n",
    "A = matrix([\n",
    "    [1.,1,1,0,0,0,0,0,0,0,0,0,0,0,0,0,0,0], # _1 + _2 + _3 = 150\n",
    "    [0,0,0,1,0,0,0,0,1,0,0,0,0,1,0,0,0,0],  # _4 + _9 + _14 = 37 / 57\n",
    "    [0,0,0,0,1,0,0,0,0,1,0,0,0,0,1,0,0,0],  # _5 + _10 + _15 = 26 / 13\n",
    "    [0,0,0,0,0,1,0,0,0,0,1,0,0,0,0,1,0,0],  # _6 + _11 + _16 = 31 / 2\n",
    "    [0,0,0,0,0,0,1,0,0,0,0,1,0,0,0,0,1,0],  # _7 + _12 + _17 = 34 / 19\n",
    "    [0,0,0,0,0,0,0,1,0,0,0,0,1,0,0,0,0,1],  # _8 + _13 + _18 = 16 / 47\n",
    "    [-1,0,0,1,1,1,1,1,0,0,0,0,0,0,0,0,0,0], # _1 = _4 + _5 + _6 + _7 + _8\n",
    "    [0,-1,0,0,0,0,0,0,1,1,1,1,1,0,0,0,0,0], # _2 = _9 + _10 + _11 + _12 + _13\n",
    "]).T\n",
    "s = [[37, 26, 31, 34, 16],\n",
    "     [57, 13, 2,  19, 47],]\n",
    "e = [0, 0]\n",
    "r = [0] * 3\n",
    "p = [0] * 2\n",
    "d = [0] * 2\n",
    "\n",
    "for i in range(len(s)):\n",
    "    b = matrix(np.concatenate((o, s[i], e)))\n",
    "    solve(c, G, h, A, b, r, p, d, i)\n",
    "\n",
    "print(f'Overall price:\\t\\t{sum(p)} ')"
   ]
  },
  {
   "cell_type": "markdown",
   "id": "c64bab09",
   "metadata": {},
   "source": [
    "# 5. Интерпретация решения\n",
    "\n",
    "В $1$ период необходимо перевезти из станции:\n",
    "* $26[т]$ в $A1$;\n",
    "* $50[т]$ в $A2$;\n",
    "* $74[т]$ в $A3$.  \n",
    "\n",
    "Далее, надо вывезти из:\n",
    "* $A1$: $26[т]$ в $B2$; \n",
    "* $A2$: $34[т]$ в $B4$, $16[т]$ в $B5$;\n",
    "* $A3$: $37[т]$ в $B1$, $31[т]$ в $B3$.  \n",
    "\n",
    "Суммарная стоимость этих перевозок будет составлять $1459[ДЕ]$.  \n",
    "При этом на $A3$ останется $6[т]$ товара.  \n",
    "\n",
    "Во $2$ период необходимо вывезти из станции:\n",
    "* $13[т]$ в $A1$;\n",
    "* $50[т]$ в $A2$;\n",
    "* $87[т]$ в $A3$\n",
    "(с учётом $6[т]$, оставшихся с $1$ периода, всего на $A3$ будет $93[т]$).  \n",
    "\n",
    "Далее, надо вывезти из:\n",
    "* $A1$: $13[т]$ в $B2$; \n",
    "* $A2$: $3[т]$ в $B4$, $47[т]$ в $B5$; \n",
    "* $A3$: $57[т]$ в $B1$, $2[т]$ в $B3$, $16[т]$ в $B4$.  \n",
    "\n",
    "Суммарная стоимость этих перевозок будет составлять $1640[ДЕ]$.  \n",
    "При этом на $A3$ останется $18[т]$ товара.  \n",
    "\n",
    "Суммарная стоимость перевозок за два периода будет составлять $3099[ДЕ]$.  \n",
    "После осуществления перевозок на $A3$ останется $18[т]$ товара."
   ]
  },
  {
   "cell_type": "markdown",
   "id": "f608d878",
   "metadata": {},
   "source": [
    "# 6. Исходные данные для анализа чувствительности\n",
    "# и их интерпретация\n",
    "\n",
    "С учётом изменения цен перевозок из первого промежуточного склада получаем следующее:"
   ]
  },
  {
   "cell_type": "code",
   "execution_count": 2,
   "id": "843e38ed",
   "metadata": {
    "scrolled": true
   },
   "outputs": [
    {
     "name": "stdout",
     "output_type": "stream",
     "text": [
      "Reduced costs:\n"
     ]
    },
    {
     "data": {
      "text/html": [
       "<table>\n",
       "<thead>\n",
       "<tr><th>P1   </th><th style=\"text-align: right;\">  B1 </th><th style=\"text-align: right;\">  B2 </th><th style=\"text-align: right;\">  B3 </th><th style=\"text-align: right;\">  B4 </th><th style=\"text-align: right;\">  B5 </th></tr>\n",
       "</thead>\n",
       "<tbody>\n",
       "<tr><td>A1   </td><td style=\"text-align: right;\">    2</td><td style=\"text-align: right;\">   -0</td><td style=\"text-align: right;\">   15</td><td style=\"text-align: right;\">    1</td><td style=\"text-align: right;\">    4</td></tr>\n",
       "</tbody>\n",
       "</table>"
      ],
      "text/plain": [
       "'<table>\\n<thead>\\n<tr><th>P1   </th><th style=\"text-align: right;\">  B1 </th><th style=\"text-align: right;\">  B2 </th><th style=\"text-align: right;\">  B3 </th><th style=\"text-align: right;\">  B4 </th><th style=\"text-align: right;\">  B5 </th></tr>\\n</thead>\\n<tbody>\\n<tr><td>A1   </td><td style=\"text-align: right;\">    2</td><td style=\"text-align: right;\">   -0</td><td style=\"text-align: right;\">   15</td><td style=\"text-align: right;\">    1</td><td style=\"text-align: right;\">    4</td></tr>\\n</tbody>\\n</table>'"
      ]
     },
     "metadata": {},
     "output_type": "display_data"
    },
    {
     "name": "stdout",
     "output_type": "stream",
     "text": [
      "Reduced costs:\n"
     ]
    },
    {
     "data": {
      "text/html": [
       "<table>\n",
       "<thead>\n",
       "<tr><th>P2   </th><th style=\"text-align: right;\">  B1 </th><th style=\"text-align: right;\">  B2 </th><th style=\"text-align: right;\">  B3 </th><th style=\"text-align: right;\">  B4 </th><th style=\"text-align: right;\">  B5 </th></tr>\n",
       "</thead>\n",
       "<tbody>\n",
       "<tr><td>A1   </td><td style=\"text-align: right;\">    2</td><td style=\"text-align: right;\">   -0</td><td style=\"text-align: right;\">   15</td><td style=\"text-align: right;\">    1</td><td style=\"text-align: right;\">    4</td></tr>\n",
       "</tbody>\n",
       "</table>"
      ],
      "text/plain": [
       "'<table>\\n<thead>\\n<tr><th>P2   </th><th style=\"text-align: right;\">  B1 </th><th style=\"text-align: right;\">  B2 </th><th style=\"text-align: right;\">  B3 </th><th style=\"text-align: right;\">  B4 </th><th style=\"text-align: right;\">  B5 </th></tr>\\n</thead>\\n<tbody>\\n<tr><td>A1   </td><td style=\"text-align: right;\">    2</td><td style=\"text-align: right;\">   -0</td><td style=\"text-align: right;\">   15</td><td style=\"text-align: right;\">    1</td><td style=\"text-align: right;\">    4</td></tr>\\n</tbody>\\n</table>'"
      ]
     },
     "metadata": {},
     "output_type": "display_data"
    }
   ],
   "source": [
    "for i in range(len(d)):\n",
    "    rcs = np.array([*np.array([ 'A1 ']),*np.array(d[i]).T[0]]).T,\n",
    "    t = tabulate(rcs,\n",
    "                [f'P{i + 1} ',  'B1 ',  'B2 ',  'B3 ',  'B4 ',  'B5 '],\n",
    "                tablefmt = 'html'\n",
    "        )\n",
    "    print('Reduced costs:')\n",
    "    display(t)"
   ]
  },
  {
   "cell_type": "markdown",
   "id": "ce6a8393",
   "metadata": {},
   "source": [
    "Таблица говорит вот о чём: при единичном изменении потребности в материалах для конкретного склада  \n",
    "(отдельно для этого склада за раз, так и для нескольких) от промежуточного  \n",
    "суммарная стоимость будет увеличиваться (или уменьшаться) на соответствующую в таблице величину.  \n",
    "Попробуем теперь провести эксперимент для $1$ периода, и установить потребность в материалах для  \n",
    "$B1$ от $A1$ большей, либо равной $1[т]$, т.к. ранее туда мы поставляли $0[т]$.  \n",
    "Таблица говорит нам, что при этом суммарная стоимость должна вырасти на $2[ДЕ]$."
   ]
  },
  {
   "cell_type": "code",
   "execution_count": 3,
   "id": "a257b870",
   "metadata": {
    "scrolled": false
   },
   "outputs": [
    {
     "data": {
      "text/html": [
       "<table>\n",
       "<thead>\n",
       "<tr><th>P1   </th><th style=\"text-align: right;\">  O </th><th style=\"text-align: right;\">  T </th><th style=\"text-align: right;\">  B1 </th><th style=\"text-align: right;\">  B2 </th><th style=\"text-align: right;\">  B3 </th><th style=\"text-align: right;\">  B4 </th><th style=\"text-align: right;\">  B5 </th><th style=\"text-align: right;\">  R </th></tr>\n",
       "</thead>\n",
       "<tbody>\n",
       "<tr><td>A1   </td><td style=\"text-align: right;\">  27</td><td style=\"text-align: right;\">  27</td><td style=\"text-align: right;\">    1</td><td style=\"text-align: right;\">   26</td><td style=\"text-align: right;\">    0</td><td style=\"text-align: right;\">    0</td><td style=\"text-align: right;\">    0</td><td style=\"text-align: right;\">   0</td></tr>\n",
       "<tr><td>A2   </td><td style=\"text-align: right;\">  50</td><td style=\"text-align: right;\">  50</td><td style=\"text-align: right;\">    0</td><td style=\"text-align: right;\">    0</td><td style=\"text-align: right;\">    0</td><td style=\"text-align: right;\">   34</td><td style=\"text-align: right;\">   16</td><td style=\"text-align: right;\">   0</td></tr>\n",
       "<tr><td>A3   </td><td style=\"text-align: right;\">  73</td><td style=\"text-align: right;\">  73</td><td style=\"text-align: right;\">   36</td><td style=\"text-align: right;\">    0</td><td style=\"text-align: right;\">   31</td><td style=\"text-align: right;\">    0</td><td style=\"text-align: right;\">    0</td><td style=\"text-align: right;\">   6</td></tr>\n",
       "<tr><td>Σ    </td><td style=\"text-align: right;\"> 150</td><td style=\"text-align: right;\"> 150</td><td style=\"text-align: right;\">   37</td><td style=\"text-align: right;\">   26</td><td style=\"text-align: right;\">   31</td><td style=\"text-align: right;\">   34</td><td style=\"text-align: right;\">   16</td><td style=\"text-align: right;\">   6</td></tr>\n",
       "</tbody>\n",
       "</table>"
      ],
      "text/plain": [
       "'<table>\\n<thead>\\n<tr><th>P1   </th><th style=\"text-align: right;\">  O </th><th style=\"text-align: right;\">  T </th><th style=\"text-align: right;\">  B1 </th><th style=\"text-align: right;\">  B2 </th><th style=\"text-align: right;\">  B3 </th><th style=\"text-align: right;\">  B4 </th><th style=\"text-align: right;\">  B5 </th><th style=\"text-align: right;\">  R </th></tr>\\n</thead>\\n<tbody>\\n<tr><td>A1   </td><td style=\"text-align: right;\">  27</td><td style=\"text-align: right;\">  27</td><td style=\"text-align: right;\">    1</td><td style=\"text-align: right;\">   26</td><td style=\"text-align: right;\">    0</td><td style=\"text-align: right;\">    0</td><td style=\"text-align: right;\">    0</td><td style=\"text-align: right;\">   0</td></tr>\\n<tr><td>A2   </td><td style=\"text-align: right;\">  50</td><td style=\"text-align: right;\">  50</td><td style=\"text-align: right;\">    0</td><td style=\"text-align: right;\">    0</td><td style=\"text-align: right;\">    0</td><td style=\"text-align: right;\">   34</td><td style=\"text-align: right;\">   16</td><td style=\"text-align: right;\">   0</td></tr>\\n<tr><td>A3   </td><td style=\"text-align: right;\">  73</td><td style=\"text-align: right;\">  73</td><td style=\"text-align: right;\">   36</td><td style=\"text-align: right;\">    0</td><td style=\"text-align: right;\">   31</td><td style=\"text-align: right;\">    0</td><td style=\"text-align: right;\">    0</td><td style=\"text-align: right;\">   6</td></tr>\\n<tr><td>Σ    </td><td style=\"text-align: right;\"> 150</td><td style=\"text-align: right;\"> 150</td><td style=\"text-align: right;\">   37</td><td style=\"text-align: right;\">   26</td><td style=\"text-align: right;\">   31</td><td style=\"text-align: right;\">   34</td><td style=\"text-align: right;\">   16</td><td style=\"text-align: right;\">   6</td></tr>\\n</tbody>\\n</table>'"
      ]
     },
     "metadata": {},
     "output_type": "display_data"
    },
    {
     "name": "stdout",
     "output_type": "stream",
     "text": [
      "Objective:\t\t1461.0\n",
      " \n"
     ]
    }
   ],
   "source": [
    "j = 0\n",
    "b = matrix(np.concatenate((o, s[j], e)))\n",
    "h[3] = -1\n",
    "r = [0] * 3\n",
    "p = [0] * 3\n",
    "d = [0] * 3\n",
    "solve(c, G, h, A, b, r, p, d, j)\n",
    "h[3] = 0"
   ]
  },
  {
   "cell_type": "markdown",
   "id": "cfdba44c",
   "metadata": {},
   "source": [
    "Как видно, это действительно так. Теперь увеличим значение до $2[т]$."
   ]
  },
  {
   "cell_type": "code",
   "execution_count": 4,
   "id": "6b11950d",
   "metadata": {
    "scrolled": false
   },
   "outputs": [
    {
     "data": {
      "text/html": [
       "<table>\n",
       "<thead>\n",
       "<tr><th>P1   </th><th style=\"text-align: right;\">  O </th><th style=\"text-align: right;\">  T </th><th style=\"text-align: right;\">  B1 </th><th style=\"text-align: right;\">  B2 </th><th style=\"text-align: right;\">  B3 </th><th style=\"text-align: right;\">  B4 </th><th style=\"text-align: right;\">  B5 </th><th style=\"text-align: right;\">  R </th></tr>\n",
       "</thead>\n",
       "<tbody>\n",
       "<tr><td>A1   </td><td style=\"text-align: right;\">  28</td><td style=\"text-align: right;\">  28</td><td style=\"text-align: right;\">    2</td><td style=\"text-align: right;\">   26</td><td style=\"text-align: right;\">    0</td><td style=\"text-align: right;\">    0</td><td style=\"text-align: right;\">    0</td><td style=\"text-align: right;\">   0</td></tr>\n",
       "<tr><td>A2   </td><td style=\"text-align: right;\">  50</td><td style=\"text-align: right;\">  50</td><td style=\"text-align: right;\">    0</td><td style=\"text-align: right;\">    0</td><td style=\"text-align: right;\">    0</td><td style=\"text-align: right;\">   34</td><td style=\"text-align: right;\">   16</td><td style=\"text-align: right;\">   0</td></tr>\n",
       "<tr><td>A3   </td><td style=\"text-align: right;\">  72</td><td style=\"text-align: right;\">  72</td><td style=\"text-align: right;\">   35</td><td style=\"text-align: right;\">    0</td><td style=\"text-align: right;\">   31</td><td style=\"text-align: right;\">    0</td><td style=\"text-align: right;\">    0</td><td style=\"text-align: right;\">   6</td></tr>\n",
       "<tr><td>Σ    </td><td style=\"text-align: right;\"> 150</td><td style=\"text-align: right;\"> 150</td><td style=\"text-align: right;\">   37</td><td style=\"text-align: right;\">   26</td><td style=\"text-align: right;\">   31</td><td style=\"text-align: right;\">   34</td><td style=\"text-align: right;\">   16</td><td style=\"text-align: right;\">   6</td></tr>\n",
       "</tbody>\n",
       "</table>"
      ],
      "text/plain": [
       "'<table>\\n<thead>\\n<tr><th>P1   </th><th style=\"text-align: right;\">  O </th><th style=\"text-align: right;\">  T </th><th style=\"text-align: right;\">  B1 </th><th style=\"text-align: right;\">  B2 </th><th style=\"text-align: right;\">  B3 </th><th style=\"text-align: right;\">  B4 </th><th style=\"text-align: right;\">  B5 </th><th style=\"text-align: right;\">  R </th></tr>\\n</thead>\\n<tbody>\\n<tr><td>A1   </td><td style=\"text-align: right;\">  28</td><td style=\"text-align: right;\">  28</td><td style=\"text-align: right;\">    2</td><td style=\"text-align: right;\">   26</td><td style=\"text-align: right;\">    0</td><td style=\"text-align: right;\">    0</td><td style=\"text-align: right;\">    0</td><td style=\"text-align: right;\">   0</td></tr>\\n<tr><td>A2   </td><td style=\"text-align: right;\">  50</td><td style=\"text-align: right;\">  50</td><td style=\"text-align: right;\">    0</td><td style=\"text-align: right;\">    0</td><td style=\"text-align: right;\">    0</td><td style=\"text-align: right;\">   34</td><td style=\"text-align: right;\">   16</td><td style=\"text-align: right;\">   0</td></tr>\\n<tr><td>A3   </td><td style=\"text-align: right;\">  72</td><td style=\"text-align: right;\">  72</td><td style=\"text-align: right;\">   35</td><td style=\"text-align: right;\">    0</td><td style=\"text-align: right;\">   31</td><td style=\"text-align: right;\">    0</td><td style=\"text-align: right;\">    0</td><td style=\"text-align: right;\">   6</td></tr>\\n<tr><td>Σ    </td><td style=\"text-align: right;\"> 150</td><td style=\"text-align: right;\"> 150</td><td style=\"text-align: right;\">   37</td><td style=\"text-align: right;\">   26</td><td style=\"text-align: right;\">   31</td><td style=\"text-align: right;\">   34</td><td style=\"text-align: right;\">   16</td><td style=\"text-align: right;\">   6</td></tr>\\n</tbody>\\n</table>'"
      ]
     },
     "metadata": {},
     "output_type": "display_data"
    },
    {
     "name": "stdout",
     "output_type": "stream",
     "text": [
      "Objective:\t\t1463.0\n",
      " \n"
     ]
    }
   ],
   "source": [
    "j = 0\n",
    "b = matrix(np.concatenate((o, s[j], e)))\n",
    "h[3] = -2\n",
    "r = [0] * 3\n",
    "p = [0] * 3\n",
    "d = [0] * 3\n",
    "solve(c, G, h, A, b, r, p, d, j)\n",
    "h[3] = 0"
   ]
  },
  {
   "cell_type": "markdown",
   "id": "72c7f821",
   "metadata": {},
   "source": [
    "Правильно (не забываем, что изначальная стоимость была $1459[ДЕ]$). До $20[т]$."
   ]
  },
  {
   "cell_type": "code",
   "execution_count": 5,
   "id": "99655a23",
   "metadata": {},
   "outputs": [
    {
     "data": {
      "text/html": [
       "<table>\n",
       "<thead>\n",
       "<tr><th>P1   </th><th style=\"text-align: right;\">  O </th><th style=\"text-align: right;\">  T </th><th style=\"text-align: right;\">  B1 </th><th style=\"text-align: right;\">  B2 </th><th style=\"text-align: right;\">  B3 </th><th style=\"text-align: right;\">  B4 </th><th style=\"text-align: right;\">  B5 </th><th style=\"text-align: right;\">  R </th></tr>\n",
       "</thead>\n",
       "<tbody>\n",
       "<tr><td>A1   </td><td style=\"text-align: right;\">  46</td><td style=\"text-align: right;\">  46</td><td style=\"text-align: right;\">   20</td><td style=\"text-align: right;\">   26</td><td style=\"text-align: right;\">    0</td><td style=\"text-align: right;\">    0</td><td style=\"text-align: right;\">    0</td><td style=\"text-align: right;\">   0</td></tr>\n",
       "<tr><td>A2   </td><td style=\"text-align: right;\">  50</td><td style=\"text-align: right;\">  50</td><td style=\"text-align: right;\">    0</td><td style=\"text-align: right;\">    0</td><td style=\"text-align: right;\">    0</td><td style=\"text-align: right;\">   34</td><td style=\"text-align: right;\">   16</td><td style=\"text-align: right;\">   0</td></tr>\n",
       "<tr><td>A3   </td><td style=\"text-align: right;\">  54</td><td style=\"text-align: right;\">  54</td><td style=\"text-align: right;\">   17</td><td style=\"text-align: right;\">    0</td><td style=\"text-align: right;\">   31</td><td style=\"text-align: right;\">    0</td><td style=\"text-align: right;\">    0</td><td style=\"text-align: right;\">   6</td></tr>\n",
       "<tr><td>Σ    </td><td style=\"text-align: right;\"> 150</td><td style=\"text-align: right;\"> 150</td><td style=\"text-align: right;\">   37</td><td style=\"text-align: right;\">   26</td><td style=\"text-align: right;\">   31</td><td style=\"text-align: right;\">   34</td><td style=\"text-align: right;\">   16</td><td style=\"text-align: right;\">   6</td></tr>\n",
       "</tbody>\n",
       "</table>"
      ],
      "text/plain": [
       "'<table>\\n<thead>\\n<tr><th>P1   </th><th style=\"text-align: right;\">  O </th><th style=\"text-align: right;\">  T </th><th style=\"text-align: right;\">  B1 </th><th style=\"text-align: right;\">  B2 </th><th style=\"text-align: right;\">  B3 </th><th style=\"text-align: right;\">  B4 </th><th style=\"text-align: right;\">  B5 </th><th style=\"text-align: right;\">  R </th></tr>\\n</thead>\\n<tbody>\\n<tr><td>A1   </td><td style=\"text-align: right;\">  46</td><td style=\"text-align: right;\">  46</td><td style=\"text-align: right;\">   20</td><td style=\"text-align: right;\">   26</td><td style=\"text-align: right;\">    0</td><td style=\"text-align: right;\">    0</td><td style=\"text-align: right;\">    0</td><td style=\"text-align: right;\">   0</td></tr>\\n<tr><td>A2   </td><td style=\"text-align: right;\">  50</td><td style=\"text-align: right;\">  50</td><td style=\"text-align: right;\">    0</td><td style=\"text-align: right;\">    0</td><td style=\"text-align: right;\">    0</td><td style=\"text-align: right;\">   34</td><td style=\"text-align: right;\">   16</td><td style=\"text-align: right;\">   0</td></tr>\\n<tr><td>A3   </td><td style=\"text-align: right;\">  54</td><td style=\"text-align: right;\">  54</td><td style=\"text-align: right;\">   17</td><td style=\"text-align: right;\">    0</td><td style=\"text-align: right;\">   31</td><td style=\"text-align: right;\">    0</td><td style=\"text-align: right;\">    0</td><td style=\"text-align: right;\">   6</td></tr>\\n<tr><td>Σ    </td><td style=\"text-align: right;\"> 150</td><td style=\"text-align: right;\"> 150</td><td style=\"text-align: right;\">   37</td><td style=\"text-align: right;\">   26</td><td style=\"text-align: right;\">   31</td><td style=\"text-align: right;\">   34</td><td style=\"text-align: right;\">   16</td><td style=\"text-align: right;\">   6</td></tr>\\n</tbody>\\n</table>'"
      ]
     },
     "metadata": {},
     "output_type": "display_data"
    },
    {
     "name": "stdout",
     "output_type": "stream",
     "text": [
      "Objective:\t\t1499.0\n",
      " \n"
     ]
    }
   ],
   "source": [
    "j = 0\n",
    "b = matrix(np.concatenate((o, s[j], e)))\n",
    "h[3] = -20\n",
    "r = [0] * 3\n",
    "p = [0] * 3\n",
    "d = [0] * 3\n",
    "solve(c, G, h, A, b, r, p, d, j)\n",
    "h[3] = 0"
   ]
  },
  {
   "cell_type": "markdown",
   "id": "fe8d7bb1",
   "metadata": {},
   "source": [
    "И снова таблица нас не подводит. Теперь попробуем сделать похожее действие для $B3$ и $2$ периода.  \n",
    "Увеличим потребность в материале до минимум $2[т]$.  \n",
    "Таблица говорит нам, что при данном изменении суммарная стоимость  \n",
    "должна вырасти на $2\\cdot15[ДЕ]=30[ДЕ]$ ($1640[ДЕ]\\rightarrow1670[ДЕ]$)."
   ]
  },
  {
   "cell_type": "code",
   "execution_count": 6,
   "id": "cfdee351",
   "metadata": {},
   "outputs": [
    {
     "data": {
      "text/html": [
       "<table>\n",
       "<thead>\n",
       "<tr><th>P2   </th><th style=\"text-align: right;\">  O </th><th style=\"text-align: right;\">  T </th><th style=\"text-align: right;\">  B1 </th><th style=\"text-align: right;\">  B2 </th><th style=\"text-align: right;\">  B3 </th><th style=\"text-align: right;\">  B4 </th><th style=\"text-align: right;\">  B5 </th><th style=\"text-align: right;\">  R </th></tr>\n",
       "</thead>\n",
       "<tbody>\n",
       "<tr><td>A1   </td><td style=\"text-align: right;\">  15</td><td style=\"text-align: right;\">  15</td><td style=\"text-align: right;\">    0</td><td style=\"text-align: right;\">   13</td><td style=\"text-align: right;\">    2</td><td style=\"text-align: right;\">    0</td><td style=\"text-align: right;\">    0</td><td style=\"text-align: right;\">   0</td></tr>\n",
       "<tr><td>A2   </td><td style=\"text-align: right;\">  50</td><td style=\"text-align: right;\">  50</td><td style=\"text-align: right;\">    0</td><td style=\"text-align: right;\">    0</td><td style=\"text-align: right;\">    0</td><td style=\"text-align: right;\">    3</td><td style=\"text-align: right;\">   47</td><td style=\"text-align: right;\">   0</td></tr>\n",
       "<tr><td>A3   </td><td style=\"text-align: right;\">  85</td><td style=\"text-align: right;\">  85</td><td style=\"text-align: right;\">   57</td><td style=\"text-align: right;\">    0</td><td style=\"text-align: right;\">    0</td><td style=\"text-align: right;\">   16</td><td style=\"text-align: right;\">    0</td><td style=\"text-align: right;\">  12</td></tr>\n",
       "<tr><td>Σ    </td><td style=\"text-align: right;\"> 150</td><td style=\"text-align: right;\"> 150</td><td style=\"text-align: right;\">   57</td><td style=\"text-align: right;\">   13</td><td style=\"text-align: right;\">    2</td><td style=\"text-align: right;\">   19</td><td style=\"text-align: right;\">   47</td><td style=\"text-align: right;\">  12</td></tr>\n",
       "</tbody>\n",
       "</table>"
      ],
      "text/plain": [
       "'<table>\\n<thead>\\n<tr><th>P2   </th><th style=\"text-align: right;\">  O </th><th style=\"text-align: right;\">  T </th><th style=\"text-align: right;\">  B1 </th><th style=\"text-align: right;\">  B2 </th><th style=\"text-align: right;\">  B3 </th><th style=\"text-align: right;\">  B4 </th><th style=\"text-align: right;\">  B5 </th><th style=\"text-align: right;\">  R </th></tr>\\n</thead>\\n<tbody>\\n<tr><td>A1   </td><td style=\"text-align: right;\">  15</td><td style=\"text-align: right;\">  15</td><td style=\"text-align: right;\">    0</td><td style=\"text-align: right;\">   13</td><td style=\"text-align: right;\">    2</td><td style=\"text-align: right;\">    0</td><td style=\"text-align: right;\">    0</td><td style=\"text-align: right;\">   0</td></tr>\\n<tr><td>A2   </td><td style=\"text-align: right;\">  50</td><td style=\"text-align: right;\">  50</td><td style=\"text-align: right;\">    0</td><td style=\"text-align: right;\">    0</td><td style=\"text-align: right;\">    0</td><td style=\"text-align: right;\">    3</td><td style=\"text-align: right;\">   47</td><td style=\"text-align: right;\">   0</td></tr>\\n<tr><td>A3   </td><td style=\"text-align: right;\">  85</td><td style=\"text-align: right;\">  85</td><td style=\"text-align: right;\">   57</td><td style=\"text-align: right;\">    0</td><td style=\"text-align: right;\">    0</td><td style=\"text-align: right;\">   16</td><td style=\"text-align: right;\">    0</td><td style=\"text-align: right;\">  12</td></tr>\\n<tr><td>Σ    </td><td style=\"text-align: right;\"> 150</td><td style=\"text-align: right;\"> 150</td><td style=\"text-align: right;\">   57</td><td style=\"text-align: right;\">   13</td><td style=\"text-align: right;\">    2</td><td style=\"text-align: right;\">   19</td><td style=\"text-align: right;\">   47</td><td style=\"text-align: right;\">  12</td></tr>\\n</tbody>\\n</table>'"
      ]
     },
     "metadata": {},
     "output_type": "display_data"
    },
    {
     "name": "stdout",
     "output_type": "stream",
     "text": [
      "Objective:\t\t1670.0\n",
      " \n"
     ]
    }
   ],
   "source": [
    "j = 1\n",
    "b = matrix(np.concatenate((o, s[j], e)))\n",
    "h[5] = -2\n",
    "r = [0] * 3\n",
    "p = [0] * 3\n",
    "d = [0] * 3\n",
    "solve(c, G, h, A, b, r, p, d, j)\n",
    "h[5] = 0"
   ]
  },
  {
   "cell_type": "markdown",
   "id": "9b09c80d",
   "metadata": {},
   "source": [
    "Увеличим потребность в материалах сразу в $B1$ и $B3$ для $1$ периода до $10[т]$."
   ]
  },
  {
   "cell_type": "code",
   "execution_count": 7,
   "id": "2cbd0287",
   "metadata": {},
   "outputs": [
    {
     "data": {
      "text/html": [
       "<table>\n",
       "<thead>\n",
       "<tr><th>P1   </th><th style=\"text-align: right;\">  O </th><th style=\"text-align: right;\">  T </th><th style=\"text-align: right;\">  B1 </th><th style=\"text-align: right;\">  B2 </th><th style=\"text-align: right;\">  B3 </th><th style=\"text-align: right;\">  B4 </th><th style=\"text-align: right;\">  B5 </th><th style=\"text-align: right;\">  R </th></tr>\n",
       "</thead>\n",
       "<tbody>\n",
       "<tr><td>A1   </td><td style=\"text-align: right;\">  46</td><td style=\"text-align: right;\">  46</td><td style=\"text-align: right;\">   10</td><td style=\"text-align: right;\">   26</td><td style=\"text-align: right;\">   10</td><td style=\"text-align: right;\">    0</td><td style=\"text-align: right;\">    0</td><td style=\"text-align: right;\">   0</td></tr>\n",
       "<tr><td>A2   </td><td style=\"text-align: right;\">  50</td><td style=\"text-align: right;\">  50</td><td style=\"text-align: right;\">    0</td><td style=\"text-align: right;\">    0</td><td style=\"text-align: right;\">    0</td><td style=\"text-align: right;\">   34</td><td style=\"text-align: right;\">   16</td><td style=\"text-align: right;\">   0</td></tr>\n",
       "<tr><td>A3   </td><td style=\"text-align: right;\">  54</td><td style=\"text-align: right;\">  54</td><td style=\"text-align: right;\">   27</td><td style=\"text-align: right;\">    0</td><td style=\"text-align: right;\">   21</td><td style=\"text-align: right;\">    0</td><td style=\"text-align: right;\">    0</td><td style=\"text-align: right;\">   6</td></tr>\n",
       "<tr><td>Σ    </td><td style=\"text-align: right;\"> 150</td><td style=\"text-align: right;\"> 150</td><td style=\"text-align: right;\">   37</td><td style=\"text-align: right;\">   26</td><td style=\"text-align: right;\">   31</td><td style=\"text-align: right;\">   34</td><td style=\"text-align: right;\">   16</td><td style=\"text-align: right;\">   6</td></tr>\n",
       "</tbody>\n",
       "</table>"
      ],
      "text/plain": [
       "'<table>\\n<thead>\\n<tr><th>P1   </th><th style=\"text-align: right;\">  O </th><th style=\"text-align: right;\">  T </th><th style=\"text-align: right;\">  B1 </th><th style=\"text-align: right;\">  B2 </th><th style=\"text-align: right;\">  B3 </th><th style=\"text-align: right;\">  B4 </th><th style=\"text-align: right;\">  B5 </th><th style=\"text-align: right;\">  R </th></tr>\\n</thead>\\n<tbody>\\n<tr><td>A1   </td><td style=\"text-align: right;\">  46</td><td style=\"text-align: right;\">  46</td><td style=\"text-align: right;\">   10</td><td style=\"text-align: right;\">   26</td><td style=\"text-align: right;\">   10</td><td style=\"text-align: right;\">    0</td><td style=\"text-align: right;\">    0</td><td style=\"text-align: right;\">   0</td></tr>\\n<tr><td>A2   </td><td style=\"text-align: right;\">  50</td><td style=\"text-align: right;\">  50</td><td style=\"text-align: right;\">    0</td><td style=\"text-align: right;\">    0</td><td style=\"text-align: right;\">    0</td><td style=\"text-align: right;\">   34</td><td style=\"text-align: right;\">   16</td><td style=\"text-align: right;\">   0</td></tr>\\n<tr><td>A3   </td><td style=\"text-align: right;\">  54</td><td style=\"text-align: right;\">  54</td><td style=\"text-align: right;\">   27</td><td style=\"text-align: right;\">    0</td><td style=\"text-align: right;\">   21</td><td style=\"text-align: right;\">    0</td><td style=\"text-align: right;\">    0</td><td style=\"text-align: right;\">   6</td></tr>\\n<tr><td>Σ    </td><td style=\"text-align: right;\"> 150</td><td style=\"text-align: right;\"> 150</td><td style=\"text-align: right;\">   37</td><td style=\"text-align: right;\">   26</td><td style=\"text-align: right;\">   31</td><td style=\"text-align: right;\">   34</td><td style=\"text-align: right;\">   16</td><td style=\"text-align: right;\">   6</td></tr>\\n</tbody>\\n</table>'"
      ]
     },
     "metadata": {},
     "output_type": "display_data"
    },
    {
     "name": "stdout",
     "output_type": "stream",
     "text": [
      "Objective:\t\t1629.0\n",
      " \n"
     ]
    }
   ],
   "source": [
    "j = 0\n",
    "b = matrix(np.concatenate((o, s[j], e)))\n",
    "h[3] = -10\n",
    "h[5] = -10\n",
    "r = [0] * 3\n",
    "p = [0] * 3\n",
    "d = [0] * 3\n",
    "solve(c, G, h, A, b, r, p, d, j)\n",
    "h[3] = 0\n",
    "h[5] = 0"
   ]
  },
  {
   "cell_type": "markdown",
   "id": "faf773ca",
   "metadata": {},
   "source": [
    "$1459[ДЕ]+10\\cdot2[ДЕ]+10\\cdot15[ДЕ]=1629[ДЕ]$. QED"
   ]
  }
 ],
 "metadata": {
  "kernelspec": {
   "display_name": "Python 3",
   "language": "python",
   "name": "python3"
  },
  "language_info": {
   "codemirror_mode": {
    "name": "ipython",
    "version": 3
   },
   "file_extension": ".py",
   "mimetype": "text/x-python",
   "name": "python",
   "nbconvert_exporter": "python",
   "pygments_lexer": "ipython3",
   "version": "3.8.8"
  }
 },
 "nbformat": 4,
 "nbformat_minor": 5
}
